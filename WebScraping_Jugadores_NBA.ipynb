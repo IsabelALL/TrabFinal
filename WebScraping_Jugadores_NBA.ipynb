{
 "cells": [
  {
   "cell_type": "markdown",
   "id": "1d0f5dfb",
   "metadata": {},
   "source": [
    "# Análisis desde ESPN 2021-22"
   ]
  },
  {
   "cell_type": "code",
   "execution_count": 25,
   "id": "bf65a1c4",
   "metadata": {},
   "outputs": [],
   "source": [
    "import re\n",
    "import urllib\n",
    "from time import sleep"
   ]
  },
  {
   "cell_type": "code",
   "execution_count": 31,
   "id": "72885332",
   "metadata": {},
   "outputs": [
    {
     "data": {
      "text/plain": [
       "{'bos': 'boston-celtics',\n",
       " 'bkn': 'brooklyn-nets',\n",
       " 'ny': 'new-york-knicks',\n",
       " 'phi': 'philadelphia-76ers',\n",
       " 'tor': 'toronto-raptors',\n",
       " 'chi': 'chicago-bulls',\n",
       " 'cle': 'cleveland-cavaliers',\n",
       " 'det': 'detroit-pistons',\n",
       " 'ind': 'indiana-pacers',\n",
       " 'mil': 'milwaukee-bucks',\n",
       " 'atl': 'atlanta-hawks',\n",
       " 'cha': 'charlotte-hornets',\n",
       " 'mia': 'miami-heat',\n",
       " 'orl': 'orlando-magic',\n",
       " 'wsh': 'washington-wizards',\n",
       " 'den': 'denver-nuggets',\n",
       " 'min': 'minnesota-timberwolves',\n",
       " 'okc': 'oklahoma-city-thunder',\n",
       " 'por': 'portland-trail-blazers',\n",
       " 'utah': 'utah-jazz',\n",
       " 'gs': 'golden-state-warriors',\n",
       " 'lac': 'la-clippers',\n",
       " 'lal': 'los-angeles-lakers',\n",
       " 'phx': 'phoenix-suns',\n",
       " 'sac': 'sacramento-kings',\n",
       " 'dal': 'dallas-mavericks',\n",
       " 'hou': 'houston-rockets',\n",
       " 'mem': 'memphis-grizzlies',\n",
       " 'no': 'new-orleans-pelicans',\n",
       " 'sa': 'san-antonio-spurs'}"
      ]
     },
     "execution_count": 31,
     "metadata": {},
     "output_type": "execute_result"
    }
   ],
   "source": [
    "#Extraemos los todos equipos presentes en la pagina\n",
    "x = urllib.request.urlopen('https://www.espn.com/nba/teams')\n",
    "equipos_x = x.read().decode('utf-8')\n",
    "equipos = dict(re.findall(\"www\\.espn\\.com/nba/team/_/name/(\\w+)/(.+?)\\\",\", equipos_x))\n",
    "equipos"
   ]
  },
  {
   "cell_type": "markdown",
   "id": "33b0c457",
   "metadata": {},
   "source": [
    "## Enlace directo para links de cada equipo\n",
    "Nustro código anterior lo convertimos en función para cada link"
   ]
  },
  {
   "cell_type": "code",
   "execution_count": 26,
   "id": "e86a331b",
   "metadata": {},
   "outputs": [
    {
     "data": {
      "text/plain": [
       "{'boston-celtics': 'https://www.espn.com/nba/team/roster/_/name/bos/boston-celtics',\n",
       " 'brooklyn-nets': 'https://www.espn.com/nba/team/roster/_/name/bkn/brooklyn-nets',\n",
       " 'new-york-knicks': 'https://www.espn.com/nba/team/roster/_/name/ny/new-york-knicks',\n",
       " 'philadelphia-76ers': 'https://www.espn.com/nba/team/roster/_/name/phi/philadelphia-76ers',\n",
       " 'toronto-raptors': 'https://www.espn.com/nba/team/roster/_/name/tor/toronto-raptors',\n",
       " 'chicago-bulls': 'https://www.espn.com/nba/team/roster/_/name/chi/chicago-bulls',\n",
       " 'cleveland-cavaliers': 'https://www.espn.com/nba/team/roster/_/name/cle/cleveland-cavaliers',\n",
       " 'detroit-pistons': 'https://www.espn.com/nba/team/roster/_/name/det/detroit-pistons',\n",
       " 'indiana-pacers': 'https://www.espn.com/nba/team/roster/_/name/ind/indiana-pacers',\n",
       " 'milwaukee-bucks': 'https://www.espn.com/nba/team/roster/_/name/mil/milwaukee-bucks',\n",
       " 'atlanta-hawks': 'https://www.espn.com/nba/team/roster/_/name/atl/atlanta-hawks',\n",
       " 'charlotte-hornets': 'https://www.espn.com/nba/team/roster/_/name/cha/charlotte-hornets',\n",
       " 'miami-heat': 'https://www.espn.com/nba/team/roster/_/name/mia/miami-heat',\n",
       " 'orlando-magic': 'https://www.espn.com/nba/team/roster/_/name/orl/orlando-magic',\n",
       " 'washington-wizards': 'https://www.espn.com/nba/team/roster/_/name/wsh/washington-wizards',\n",
       " 'denver-nuggets': 'https://www.espn.com/nba/team/roster/_/name/den/denver-nuggets',\n",
       " 'minnesota-timberwolves': 'https://www.espn.com/nba/team/roster/_/name/min/minnesota-timberwolves',\n",
       " 'oklahoma-city-thunder': 'https://www.espn.com/nba/team/roster/_/name/okc/oklahoma-city-thunder',\n",
       " 'portland-trail-blazers': 'https://www.espn.com/nba/team/roster/_/name/por/portland-trail-blazers',\n",
       " 'utah-jazz': 'https://www.espn.com/nba/team/roster/_/name/utah/utah-jazz',\n",
       " 'golden-state-warriors': 'https://www.espn.com/nba/team/roster/_/name/gs/golden-state-warriors',\n",
       " 'la-clippers': 'https://www.espn.com/nba/team/roster/_/name/lac/la-clippers',\n",
       " 'los-angeles-lakers': 'https://www.espn.com/nba/team/roster/_/name/lal/los-angeles-lakers',\n",
       " 'phoenix-suns': 'https://www.espn.com/nba/team/roster/_/name/phx/phoenix-suns',\n",
       " 'sacramento-kings': 'https://www.espn.com/nba/team/roster/_/name/sac/sacramento-kings',\n",
       " 'dallas-mavericks': 'https://www.espn.com/nba/team/roster/_/name/dal/dallas-mavericks',\n",
       " 'houston-rockets': 'https://www.espn.com/nba/team/roster/_/name/hou/houston-rockets',\n",
       " 'memphis-grizzlies': 'https://www.espn.com/nba/team/roster/_/name/mem/memphis-grizzlies',\n",
       " 'new-orleans-pelicans': 'https://www.espn.com/nba/team/roster/_/name/no/new-orleans-pelicans',\n",
       " 'san-antonio-spurs': 'https://www.espn.com/nba/team/roster/_/name/sa/san-antonio-spurs'}"
      ]
     },
     "execution_count": 26,
     "metadata": {},
     "output_type": "execute_result"
    }
   ],
   "source": [
    "#\"Roster\" = Lista de cada equipo\n",
    "def links_equipos():\n",
    "    x = urllib.request.urlopen('https://www.espn.com/nba/teams')\n",
    "    equipo_x = x.read().decode('utf-8')\n",
    "    equipo = dict(re.findall(\"www\\.espn\\.com/nba/team/_/name/(\\w+)/(.+?)\\\",\", equipo_x))\n",
    "    #lista de almacenamiento de los equipos\n",
    "    lista_urls = []\n",
    "    for key in equipo.keys():\n",
    "        lista_urls.append('https://www.espn.com/nba/team/roster/_/name/' + key + '/' + equipo[key])\n",
    "        equipo[key] = str(equipo[key])\n",
    "    return dict(zip(equipo.values(), lista_urls))\n",
    "lista_equipos = links_equipos()\n",
    "lista_equipos"
   ]
  },
  {
   "cell_type": "code",
   "execution_count": 29,
   "id": "9c947403",
   "metadata": {},
   "outputs": [
    {
     "data": {
      "text/plain": [
       "{'boston-celtics': 'https://www.espn.com/nba/team/stats/_/name/bos/boston-celtics',\n",
       " 'brooklyn-nets': 'https://www.espn.com/nba/team/stats/_/name/bkn/brooklyn-nets',\n",
       " 'new-york-knicks': 'https://www.espn.com/nba/team/stats/_/name/ny/new-york-knicks',\n",
       " 'philadelphia-76ers': 'https://www.espn.com/nba/team/stats/_/name/phi/philadelphia-76ers',\n",
       " 'toronto-raptors': 'https://www.espn.com/nba/team/stats/_/name/tor/toronto-raptors',\n",
       " 'chicago-bulls': 'https://www.espn.com/nba/team/stats/_/name/chi/chicago-bulls',\n",
       " 'cleveland-cavaliers': 'https://www.espn.com/nba/team/stats/_/name/cle/cleveland-cavaliers',\n",
       " 'detroit-pistons': 'https://www.espn.com/nba/team/stats/_/name/det/detroit-pistons',\n",
       " 'indiana-pacers': 'https://www.espn.com/nba/team/stats/_/name/ind/indiana-pacers',\n",
       " 'milwaukee-bucks': 'https://www.espn.com/nba/team/stats/_/name/mil/milwaukee-bucks',\n",
       " 'atlanta-hawks': 'https://www.espn.com/nba/team/stats/_/name/atl/atlanta-hawks',\n",
       " 'charlotte-hornets': 'https://www.espn.com/nba/team/stats/_/name/cha/charlotte-hornets',\n",
       " 'miami-heat': 'https://www.espn.com/nba/team/stats/_/name/mia/miami-heat',\n",
       " 'orlando-magic': 'https://www.espn.com/nba/team/stats/_/name/orl/orlando-magic',\n",
       " 'washington-wizards': 'https://www.espn.com/nba/team/stats/_/name/wsh/washington-wizards',\n",
       " 'denver-nuggets': 'https://www.espn.com/nba/team/stats/_/name/den/denver-nuggets',\n",
       " 'minnesota-timberwolves': 'https://www.espn.com/nba/team/stats/_/name/min/minnesota-timberwolves',\n",
       " 'oklahoma-city-thunder': 'https://www.espn.com/nba/team/stats/_/name/okc/oklahoma-city-thunder',\n",
       " 'portland-trail-blazers': 'https://www.espn.com/nba/team/stats/_/name/por/portland-trail-blazers',\n",
       " 'utah-jazz': 'https://www.espn.com/nba/team/stats/_/name/utah/utah-jazz',\n",
       " 'golden-state-warriors': 'https://www.espn.com/nba/team/stats/_/name/gs/golden-state-warriors',\n",
       " 'la-clippers': 'https://www.espn.com/nba/team/stats/_/name/lac/la-clippers',\n",
       " 'los-angeles-lakers': 'https://www.espn.com/nba/team/stats/_/name/lal/los-angeles-lakers',\n",
       " 'phoenix-suns': 'https://www.espn.com/nba/team/stats/_/name/phx/phoenix-suns',\n",
       " 'sacramento-kings': 'https://www.espn.com/nba/team/stats/_/name/sac/sacramento-kings',\n",
       " 'dallas-mavericks': 'https://www.espn.com/nba/team/stats/_/name/dal/dallas-mavericks',\n",
       " 'houston-rockets': 'https://www.espn.com/nba/team/stats/_/name/hou/houston-rockets',\n",
       " 'memphis-grizzlies': 'https://www.espn.com/nba/team/stats/_/name/mem/memphis-grizzlies',\n",
       " 'new-orleans-pelicans': 'https://www.espn.com/nba/team/stats/_/name/no/new-orleans-pelicans',\n",
       " 'san-antonio-spurs': 'https://www.espn.com/nba/team/stats/_/name/sa/san-antonio-spurs'}"
      ]
     },
     "execution_count": 29,
     "metadata": {},
     "output_type": "execute_result"
    }
   ],
   "source": [
    "#\"Stats\" = Lista de cada equipo\n",
    "def links_stadisticas():\n",
    "    y = urllib.request.urlopen('https://www.espn.com/nba/teams')\n",
    "    stats_y = y.read().decode('utf-8')\n",
    "    stats = dict(re.findall(\"www\\.espn\\.com/nba/team/_/name/(\\w+)/(.+?)\\\",\", stats_y))\n",
    "    #lista de almacenamiento de las estadisticas\n",
    "    stats_urls = []\n",
    "    for key in stats.keys():\n",
    "        stats_urls.append('https://www.espn.com/nba/team/stats/_/name/' + key + '/' + stats[key])\n",
    "        stats[key] = str(stats[key])\n",
    "    return dict(zip(stats.values(), stats_urls))\n",
    "lista_stats = links_stadisticas()\n",
    "lista_stats"
   ]
  },
  {
   "cell_type": "code",
   "execution_count": null,
   "id": "4e39f2ac",
   "metadata": {},
   "outputs": [],
   "source": []
  },
  {
   "cell_type": "code",
   "execution_count": 47,
   "id": "7bac9d61",
   "metadata": {},
   "outputs": [
    {
     "data": {
      "text/plain": [
       "['{\"shortName\":\"D. Ayton\",\"name\":\"Deandre Ayton\",\"href\":\"https://www.espn.com/nba/player/_/id/4278129/deandre-ayton\",\"uid\":\"s:40~l:46~a:4278129\",\"guid\":\"9af41ea8a24c025fa63f8263fbf0ca66\",\"id\":\"4278129\",\"height\":\"6\\' 11\\\\\"\",\"weight\":\"250 lbs\",\"age\":23,\"position\":\"C\",\"jersey\":\"22\",\"salary\":\"$12,632,950\",\"birthDate\":\"07/23/98\",\"headshot\":\"https://a.espncdn.com/i/headshots/nba/players/full/4278129.png\",\"lastName\":\"Deandre Ayton\",\"experience\":2,\"college\":\"Arizona\",\"birthPlace\":\"Nassau, Bahamas\"}',\n",
       " '{\"shortName\":\"B. Biyombo\",\"name\":\"Bismack Biyombo\",\"href\":\"https://www.espn.com/nba/player/_/id/6427/bismack-biyombo\",\"uid\":\"s:40~l:46~a:6427\",\"guid\":\"c0f396246c78a95d368211303cd9545a\",\"id\":\"6427\",\"height\":\"6\\' 8\\\\\"\",\"weight\":\"255 lbs\",\"age\":29,\"position\":\"C\",\"jersey\":\"18\",\"salary\":\"$863,368\",\"birthDate\":\"08/28/92\",\"headshot\":\"https://a.espncdn.com/i/headshots/nba/players/full/6427.png\",\"lastName\":\"Bismack Biyombo\",\"experience\":9,\"birthPlace\":\"Lubumbashi, Congo\"}',\n",
       " '{\"shortName\":\"D. Booker\",\"name\":\"Devin Booker\",\"href\":\"https://www.espn.com/nba/player/_/id/3136193/devin-booker\",\"uid\":\"s:40~l:46~a:3136193\",\"guid\":\"493046d7fa60d8a11397b9a6dca8dedf\",\"id\":\"3136193\",\"height\":\"6\\' 5\\\\\"\",\"weight\":\"206 lbs\",\"age\":25,\"position\":\"SG\",\"hand\":\"L\",\"jersey\":\"1\",\"salary\":\"$31,650,600\",\"birthDate\":\"10/30/96\",\"headshot\":\"https://a.espncdn.com/i/headshots/nba/players/full/3136193.png\",\"lastName\":\"Devin Booker\",\"experience\":5,\"college\":\"Kentucky\",\"birthPlace\":\"Grand Rapids, MI\"}',\n",
       " '{\"shortName\":\"M. Bridges\",\"name\":\"Mikal Bridges\",\"href\":\"https://www.espn.com/nba/player/_/id/3147657/mikal-bridges\",\"uid\":\"s:40~l:46~a:3147657\",\"guid\":\"cb79ebc7b282824752967b803d2cbc9e\",\"id\":\"3147657\",\"height\":\"6\\' 6\\\\\"\",\"weight\":\"209 lbs\",\"age\":25,\"position\":\"SF\",\"jersey\":\"25\",\"salary\":\"$5,557,725\",\"birthDate\":\"08/30/96\",\"headshot\":\"https://a.espncdn.com/i/headshots/nba/players/full/3147657.png\",\"lastName\":\"Mikal Bridges\",\"experience\":2,\"college\":\"Villanova\",\"birthPlace\":\"Malvern, PA\"}',\n",
       " '{\"shortName\":\"T. Craig\",\"name\":\"Torrey Craig\",\"href\":\"https://www.espn.com/nba/player/_/id/2528693/torrey-craig\",\"uid\":\"s:40~l:46~a:2528693\",\"guid\":\"91a15f7d0a24cb150c4b0bb2ca44b791\",\"id\":\"2528693\",\"height\":\"6\\' 7\\\\\"\",\"weight\":\"221 lbs\",\"age\":31,\"position\":\"SF\",\"jersey\":\"0\",\"salary\":\"$4,878,049\",\"birthDate\":\"12/19/90\",\"headshot\":\"https://a.espncdn.com/i/headshots/nba/players/full/2528693.png\",\"lastName\":\"Torrey Craig\",\"experience\":4,\"college\":\"USC Upstate\",\"birthPlace\":\"Columbia, SC\"}',\n",
       " '{\"shortName\":\"J. Crowder\",\"name\":\"Jae Crowder\",\"href\":\"https://www.espn.com/nba/player/_/id/6581/jae-crowder\",\"uid\":\"s:40~l:46~a:6581\",\"guid\":\"9e192487c812d5d0ef90d932072ad833\",\"id\":\"6581\",\"height\":\"6\\' 6\\\\\"\",\"weight\":\"235 lbs\",\"age\":31,\"position\":\"PF\",\"jersey\":\"99\",\"salary\":\"$9,720,900\",\"birthDate\":\"07/06/90\",\"headshot\":\"https://a.espncdn.com/i/headshots/nba/players/full/6581.png\",\"lastName\":\"Jae Crowder\",\"experience\":8,\"college\":\"Marquette\",\"birthPlace\":\"Villa Rica, GA\"}',\n",
       " '{\"shortName\":\"A. Holiday\",\"name\":\"Aaron Holiday\",\"href\":\"https://www.espn.com/nba/player/_/id/3922230/aaron-holiday\",\"uid\":\"s:40~l:46~a:3922230\",\"guid\":\"83305275d4dadbb2ee85003cba53cd23\",\"id\":\"3922230\",\"height\":\"6\\' 0\\\\\"\",\"weight\":\"185 lbs\",\"age\":25,\"position\":\"PG\",\"jersey\":\"4\",\"salary\":\"$3,980,551\",\"birthDate\":\"09/30/96\",\"headshot\":\"https://a.espncdn.com/i/headshots/nba/players/full/3922230.png\",\"lastName\":\"Aaron Holiday\",\"experience\":3,\"college\":\"UCLA\",\"birthPlace\":\"Chatsworth, CA\"}',\n",
       " '{\"shortName\":\"J. Jackson\",\"name\":\"Justin Jackson\",\"href\":\"https://www.espn.com/nba/player/_/id/3138156/justin-jackson\",\"uid\":\"s:40~l:46~a:3138156\",\"guid\":\"ea5f207a6b56696ed6ae13cd5d9a7072\",\"id\":\"3138156\",\"height\":\"6\\' 8\\\\\"\",\"weight\":\"220 lbs\",\"age\":26,\"position\":\"F\",\"jersey\":\"44\",\"birthDate\":\"03/28/95\",\"headshot\":\"https://a.espncdn.com/i/headshots/nba/players/full/3138156.png\",\"lastName\":\"Justin Jackson\",\"experience\":4,\"college\":\"North Carolina\",\"birthPlace\":\"Tomball, TX\"}',\n",
       " '{\"shortName\":\"C. Johnson\",\"name\":\"Cameron Johnson\",\"href\":\"https://www.espn.com/nba/player/_/id/3138196/cameron-johnson\",\"uid\":\"s:40~l:46~a:3138196\",\"guid\":\"52d9a7a40beea926a5fdf2ecb96eaa95\",\"id\":\"3138196\",\"height\":\"6\\' 8\\\\\"\",\"weight\":\"210 lbs\",\"age\":26,\"position\":\"SF\",\"jersey\":\"23\",\"salary\":\"$4,437,000\",\"birthDate\":\"03/03/96\",\"headshot\":\"https://a.espncdn.com/i/headshots/nba/players/full/3138196.png\",\"lastName\":\"Cameron Johnson\",\"experience\":1,\"college\":\"North Carolina\",\"birthPlace\":\"Moon Township, PA\"}',\n",
       " '{\"shortName\":\"F. Kaminsky\",\"name\":\"Frank Kaminsky\",\"href\":\"https://www.espn.com/nba/player/_/id/2579294/frank-kaminsky\",\"uid\":\"s:40~l:46~a:2579294\",\"guid\":\"f9dd05361090a62cfa77ae7a119a8e88\",\"id\":\"2579294\",\"height\":\"7\\' 0\\\\\"\",\"weight\":\"240 lbs\",\"age\":28,\"position\":\"PF\",\"jersey\":\"8\",\"salary\":\"$1,669,178\",\"birthDate\":\"04/04/93\",\"headshot\":\"https://a.espncdn.com/i/headshots/nba/players/full/2579294.png\",\"lastName\":\"Frank Kaminsky\",\"experience\":5,\"college\":\"Wisconsin\",\"birthPlace\":\"Lisle, IL\"}',\n",
       " '{\"shortName\":\"J. McGee\",\"name\":\"JaVale McGee\",\"href\":\"https://www.espn.com/nba/player/_/id/3452/javale-mcgee\",\"uid\":\"s:40~l:46~a:3452\",\"guid\":\"98d52496d7a19d8dd9a8bbd1fc5e362d\",\"id\":\"3452\",\"height\":\"7\\' 0\\\\\"\",\"weight\":\"270 lbs\",\"age\":34,\"position\":\"C\",\"jersey\":\"00\",\"salary\":\"$5,000,000\",\"birthDate\":\"01/19/88\",\"headshot\":\"https://a.espncdn.com/i/headshots/nba/players/full/3452.png\",\"lastName\":\"JaVale McGee\",\"experience\":14,\"college\":\"Nevada\",\"birthPlace\":\"Flint, MI\"}',\n",
       " '{\"shortName\":\"C. Paul\",\"name\":\"Chris Paul\",\"href\":\"https://www.espn.com/nba/player/_/id/2779/chris-paul\",\"uid\":\"s:40~l:46~a:2779\",\"guid\":\"63c7648a60bac799d355f7f1d43f3a55\",\"id\":\"2779\",\"height\":\"6\\' 0\\\\\"\",\"weight\":\"175 lbs\",\"age\":36,\"position\":\"PG\",\"hand\":\"B\",\"jersey\":\"3\",\"salary\":\"$30,000,000\",\"birthDate\":\"05/06/85\",\"headshot\":\"https://a.espncdn.com/i/headshots/nba/players/full/2779.png\",\"lastName\":\"Chris Paul\",\"experience\":15,\"college\":\"Wake Forest\",\"birthPlace\":\"Winston-Salem, NC\"}',\n",
       " '{\"shortName\":\"C. Payne\",\"name\":\"Cameron Payne\",\"href\":\"https://www.espn.com/nba/player/_/id/3064230/cameron-payne\",\"uid\":\"s:40~l:46~a:3064230\",\"guid\":\"973fd4401804fd3ba70b7a5be2996764\",\"id\":\"3064230\",\"height\":\"6\\' 1\\\\\"\",\"weight\":\"183 lbs\",\"age\":27,\"position\":\"PG\",\"jersey\":\"15\",\"salary\":\"$6,500,000\",\"birthDate\":\"08/08/94\",\"headshot\":\"https://a.espncdn.com/i/headshots/nba/players/full/3064230.png\",\"lastName\":\"Cameron Payne\",\"experience\":5,\"college\":\"Murray State\",\"birthPlace\":\"Bartlett, TN\"}',\n",
       " '{\"shortName\":\"E. Payton\",\"name\":\"Elfrid Payton\",\"href\":\"https://www.espn.com/nba/player/_/id/2583639/elfrid-payton\",\"uid\":\"s:40~l:46~a:2583639\",\"guid\":\"e2160cce28c6ea0ef083f0845a0951e6\",\"id\":\"2583639\",\"height\":\"6\\' 3\\\\\"\",\"weight\":\"195 lbs\",\"age\":28,\"position\":\"PG\",\"hand\":\"R\",\"jersey\":\"2\",\"salary\":\"$1,669,178\",\"birthDate\":\"02/22/94\",\"headshot\":\"https://a.espncdn.com/i/headshots/nba/players/full/2583639.png\",\"lastName\":\"Elfrid Payton\",\"experience\":5,\"college\":\"Louisiana-Lafayette\",\"birthPlace\":\"Gretna, LA\"}',\n",
       " '{\"shortName\":\"D. Saric\",\"name\":\"Dario Saric\",\"href\":\"https://www.espn.com/nba/player/_/id/3032978/dario-saric\",\"uid\":\"s:40~l:46~a:3032978\",\"guid\":\"ec510d5f3cb7033bef466f3f331f0710\",\"id\":\"3032978\",\"height\":\"6\\' 10\\\\\"\",\"weight\":\"225 lbs\",\"age\":27,\"position\":\"PF\",\"jersey\":\"20\",\"salary\":\"$8,510,000\",\"birthDate\":\"04/08/94\",\"headshot\":\"https://a.espncdn.com/i/headshots/nba/players/full/3032978.png\",\"lastName\":\"Dario Saric\",\"experience\":4,\"birthPlace\":\"Sibenik, Croatia\"}',\n",
       " '{\"shortName\":\"L. Shamet\",\"name\":\"Landry Shamet\",\"href\":\"https://www.espn.com/nba/player/_/id/3914044/landry-shamet\",\"uid\":\"s:40~l:46~a:3914044\",\"guid\":\"69fd7509a4ad0c68925249708020e668\",\"id\":\"3914044\",\"height\":\"6\\' 4\\\\\"\",\"weight\":\"190 lbs\",\"age\":24,\"position\":\"SG\",\"jersey\":\"14\",\"salary\":\"$3,768,342\",\"birthDate\":\"03/13/97\",\"headshot\":\"https://a.espncdn.com/i/headshots/nba/players/full/3914044.png\",\"lastName\":\"Landry Shamet\",\"experience\":2,\"college\":\"Wichita State\",\"birthPlace\":\"Kansas City, MO\"}',\n",
       " '{\"shortName\":\"I. Wainright\",\"name\":\"Ish Wainright\",\"href\":\"https://www.espn.com/nba/player/_/id/3059307/ish-wainright\",\"uid\":\"s:40~l:46~a:3059307\",\"guid\":\"2818174f60b9996e262c1ec98a7bddff\",\"id\":\"3059307\",\"height\":\"6\\' 5\\\\\"\",\"weight\":\"250 lbs\",\"age\":27,\"position\":\"F\",\"jersey\":\"12\",\"birthDate\":\"09/12/94\",\"headshot\":\"https://a.espncdn.com/i/headshots/nba/players/full/3059307.png\",\"lastName\":\"Ish Wainright\",\"experience\":0,\"college\":\"Baylor\",\"birthPlace\":\"Kansas City, MO\"}']"
      ]
     },
     "execution_count": 47,
     "metadata": {},
     "output_type": "execute_result"
    }
   ],
   "source": [
    "url = \"https://www.espn.com/nba/team/roster/_/name/phx/phoenix-suns\"\n",
    "f = urllib.request.urlopen(url)\n",
    "roster_source = f.read().decode('utf-8')\n",
    "\n",
    "player_regex = ('{\"shortName\":.+?}')\n",
    "player_regex\n",
    "player_info = re.findall(player_regex, roster_source)\n",
    "#seleccionamos a todos los jugadores\n",
    "player_info[:]"
   ]
  },
  {
   "cell_type": "code",
   "execution_count": 56,
   "id": "5dab6afc",
   "metadata": {},
   "outputs": [],
   "source": [
    "def get_player_info(lista_urls):\n",
    "    f = urllib.request.urlopen(lista_urls)\n",
    "    lista_equipos_source = f.read().decode('utf-8')\n",
    "    sleep(0.5)\n",
    "    player_regex = ('\\{\\\"name\\\"\\:\\\"(\\w+\\s\\w+)\\\",\\\"href\\\"\\:\\\"https?\\://www\\.espn\\.com/nba/player/.*?\\\",(.*?)\\}')\n",
    "    player_info = re.findall(player_regex, lista_equipos_source)\n",
    "    player_dict = dict()\n",
    "    for player in player_info:\n",
    "        player_dict[player[0]] = json.loads(\"{\"+player[1]+\"}\")\n",
    "    return(player_dict)"
   ]
  },
  {
   "cell_type": "code",
   "execution_count": 58,
   "id": "3bc91a6f",
   "metadata": {},
   "outputs": [
    {
     "name": "stdout",
     "output_type": "stream",
     "text": [
      "Obetenemos la informacion lo cada equipo: boston-celtics\n",
      "Obetenemos la informacion lo cada equipo: brooklyn-nets\n",
      "Obetenemos la informacion lo cada equipo: new-york-knicks\n",
      "Obetenemos la informacion lo cada equipo: philadelphia-76ers\n",
      "Obetenemos la informacion lo cada equipo: toronto-raptors\n",
      "Obetenemos la informacion lo cada equipo: chicago-bulls\n",
      "Obetenemos la informacion lo cada equipo: cleveland-cavaliers\n",
      "Obetenemos la informacion lo cada equipo: detroit-pistons\n",
      "Obetenemos la informacion lo cada equipo: indiana-pacers\n",
      "Obetenemos la informacion lo cada equipo: milwaukee-bucks\n",
      "Obetenemos la informacion lo cada equipo: atlanta-hawks\n",
      "Obetenemos la informacion lo cada equipo: charlotte-hornets\n",
      "Obetenemos la informacion lo cada equipo: miami-heat\n",
      "Obetenemos la informacion lo cada equipo: orlando-magic\n",
      "Obetenemos la informacion lo cada equipo: washington-wizards\n",
      "Obetenemos la informacion lo cada equipo: denver-nuggets\n",
      "Obetenemos la informacion lo cada equipo: minnesota-timberwolves\n",
      "Obetenemos la informacion lo cada equipo: oklahoma-city-thunder\n",
      "Obetenemos la informacion lo cada equipo: portland-trail-blazers\n",
      "Obetenemos la informacion lo cada equipo: utah-jazz\n",
      "Obetenemos la informacion lo cada equipo: golden-state-warriors\n",
      "Obetenemos la informacion lo cada equipo: la-clippers\n",
      "Obetenemos la informacion lo cada equipo: los-angeles-lakers\n",
      "Obetenemos la informacion lo cada equipo: phoenix-suns\n",
      "Obetenemos la informacion lo cada equipo: sacramento-kings\n",
      "Obetenemos la informacion lo cada equipo: dallas-mavericks\n",
      "Obetenemos la informacion lo cada equipo: houston-rockets\n",
      "Obetenemos la informacion lo cada equipo: memphis-grizzlies\n",
      "Obetenemos la informacion lo cada equipo: new-orleans-pelicans\n",
      "Obetenemos la informacion lo cada equipo: san-antonio-spurs\n"
     ]
    }
   ],
   "source": [
    "all_players = dict()\n",
    "for team in lista_equipos.keys():\n",
    "    print(\"Obetenemos la informacion lo cada equipo: \" + team)\n",
    "    all_players[team] = get_player_info(lista_equipos[team])"
   ]
  },
  {
   "cell_type": "code",
   "execution_count": 59,
   "id": "3b5c559d",
   "metadata": {},
   "outputs": [
    {
     "data": {
      "text/plain": [
       "dict_keys(['boston-celtics', 'brooklyn-nets', 'new-york-knicks', 'philadelphia-76ers', 'toronto-raptors', 'chicago-bulls', 'cleveland-cavaliers', 'detroit-pistons', 'indiana-pacers', 'milwaukee-bucks', 'atlanta-hawks', 'charlotte-hornets', 'miami-heat', 'orlando-magic', 'washington-wizards', 'denver-nuggets', 'minnesota-timberwolves', 'oklahoma-city-thunder', 'portland-trail-blazers', 'utah-jazz', 'golden-state-warriors', 'la-clippers', 'los-angeles-lakers', 'phoenix-suns', 'sacramento-kings', 'dallas-mavericks', 'houston-rockets', 'memphis-grizzlies', 'new-orleans-pelicans', 'san-antonio-spurs'])"
      ]
     },
     "execution_count": 59,
     "metadata": {},
     "output_type": "execute_result"
    }
   ],
   "source": [
    "all_players.keys()"
   ]
  },
  {
   "cell_type": "code",
   "execution_count": 62,
   "id": "b14f4e83",
   "metadata": {},
   "outputs": [
    {
     "data": {
      "text/plain": [
       "dict_keys([])"
      ]
     },
     "execution_count": 62,
     "metadata": {},
     "output_type": "execute_result"
    }
   ],
   "source": [
    "all_players[\"chicago-bulls\"].keys()"
   ]
  },
  {
   "cell_type": "code",
   "execution_count": 61,
   "id": "ee55ee42",
   "metadata": {},
   "outputs": [
    {
     "ename": "KeyError",
     "evalue": "'LeBron James'",
     "output_type": "error",
     "traceback": [
      "\u001b[1;31m---------------------------------------------------------------------------\u001b[0m",
      "\u001b[1;31mKeyError\u001b[0m                                  Traceback (most recent call last)",
      "\u001b[1;32mC:\\Users\\ADMINI~1\\AppData\\Local\\Temp/ipykernel_42796/3353592778.py\u001b[0m in \u001b[0;36m<module>\u001b[1;34m\u001b[0m\n\u001b[1;32m----> 1\u001b[1;33m \u001b[0mall_players\u001b[0m\u001b[1;33m[\u001b[0m\u001b[1;34m\"los-angeles-lakers\"\u001b[0m\u001b[1;33m]\u001b[0m\u001b[1;33m[\u001b[0m\u001b[1;34m\"LeBron James\"\u001b[0m\u001b[1;33m]\u001b[0m\u001b[1;33m\u001b[0m\u001b[1;33m\u001b[0m\u001b[0m\n\u001b[0m",
      "\u001b[1;31mKeyError\u001b[0m: 'LeBron James'"
     ]
    }
   ],
   "source": [
    "all_players[\"los-angeles-lakers\"][\"LeBron James\"]"
   ]
  },
  {
   "cell_type": "code",
   "execution_count": null,
   "id": "403a274f",
   "metadata": {},
   "outputs": [],
   "source": []
  }
 ],
 "metadata": {
  "kernelspec": {
   "display_name": "Python 3 (ipykernel)",
   "language": "python",
   "name": "python3"
  },
  "language_info": {
   "codemirror_mode": {
    "name": "ipython",
    "version": 3
   },
   "file_extension": ".py",
   "mimetype": "text/x-python",
   "name": "python",
   "nbconvert_exporter": "python",
   "pygments_lexer": "ipython3",
   "version": "3.9.7"
  }
 },
 "nbformat": 4,
 "nbformat_minor": 5
}
