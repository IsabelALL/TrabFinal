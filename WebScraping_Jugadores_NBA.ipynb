{
 "cells": [
  {
   "cell_type": "markdown",
   "id": "32e95726",
   "metadata": {},
   "source": [
    "# Análisis desde ESPN"
   ]
  },
  {
   "cell_type": "code",
   "execution_count": 25,
   "id": "e7620053",
   "metadata": {},
   "outputs": [],
   "source": [
    "import re\n",
    "import urllib\n",
    "from time import sleep"
   ]
  },
  {
   "cell_type": "code",
   "execution_count": 17,
   "id": "6e6ed7cc",
   "metadata": {},
   "outputs": [
    {
     "data": {
      "text/plain": [
       "{'bos': 'boston-celtics',\n",
       " 'bkn': 'brooklyn-nets',\n",
       " 'ny': 'new-york-knicks',\n",
       " 'phi': 'philadelphia-76ers',\n",
       " 'tor': 'toronto-raptors',\n",
       " 'chi': 'chicago-bulls',\n",
       " 'cle': 'cleveland-cavaliers',\n",
       " 'det': 'detroit-pistons',\n",
       " 'ind': 'indiana-pacers',\n",
       " 'mil': 'milwaukee-bucks',\n",
       " 'atl': 'atlanta-hawks',\n",
       " 'cha': 'charlotte-hornets',\n",
       " 'mia': 'miami-heat',\n",
       " 'orl': 'orlando-magic',\n",
       " 'wsh': 'washington-wizards',\n",
       " 'den': 'denver-nuggets',\n",
       " 'min': 'minnesota-timberwolves',\n",
       " 'okc': 'oklahoma-city-thunder',\n",
       " 'por': 'portland-trail-blazers',\n",
       " 'utah': 'utah-jazz',\n",
       " 'gs': 'golden-state-warriors',\n",
       " 'lac': 'la-clippers',\n",
       " 'lal': 'los-angeles-lakers',\n",
       " 'phx': 'phoenix-suns',\n",
       " 'sac': 'sacramento-kings',\n",
       " 'dal': 'dallas-mavericks',\n",
       " 'hou': 'houston-rockets',\n",
       " 'mem': 'memphis-grizzlies',\n",
       " 'no': 'new-orleans-pelicans',\n",
       " 'sa': 'san-antonio-spurs'}"
      ]
     },
     "execution_count": 17,
     "metadata": {},
     "output_type": "execute_result"
    }
   ],
   "source": [
    "#Extraemos los todos equipos presentes en la pagina\n",
    "x = urllib.request.urlopen('https://www.espn.com/nba/teams')\n",
    "equipos_x = f.read().decode('utf-8')\n",
    "equipos = dict(re.findall(\"www\\.espn\\.com/nba/team/_/name/(\\w+)/(.+?)\\\",\", teams_source))\n",
    "equipos"
   ]
  }
 ],
 "metadata": {
  "kernelspec": {
   "display_name": "Python 3 (ipykernel)",
   "language": "python",
   "name": "python3"
  },
  "language_info": {
   "codemirror_mode": {
    "name": "ipython",
    "version": 3
   },
   "file_extension": ".py",
   "mimetype": "text/x-python",
   "name": "python",
   "nbconvert_exporter": "python",
   "pygments_lexer": "ipython3",
   "version": "3.9.7"
  }
 },
 "nbformat": 4,
 "nbformat_minor": 5
}
