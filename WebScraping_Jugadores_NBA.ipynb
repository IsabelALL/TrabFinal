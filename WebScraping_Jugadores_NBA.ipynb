{
 "cells": [
  {
   "cell_type": "markdown",
   "id": "681bd1f8",
   "metadata": {},
   "source": [
    "# Análisis desde ESPN 2021-22"
   ]
  },
  {
   "cell_type": "code",
   "execution_count": 4,
   "id": "cf7a4e71",
   "metadata": {},
   "outputs": [],
   "source": [
    "import re\n",
    "import urllib\n",
    "from time import sleep"
   ]
  },
  {
   "cell_type": "code",
   "execution_count": 7,
   "id": "ac79e406",
   "metadata": {},
   "outputs": [
    {
     "data": {
      "text/plain": [
       "{'bos': 'boston-celtics',\n",
       " 'bkn': 'brooklyn-nets',\n",
       " 'ny': 'new-york-knicks',\n",
       " 'phi': 'philadelphia-76ers',\n",
       " 'tor': 'toronto-raptors',\n",
       " 'chi': 'chicago-bulls',\n",
       " 'cle': 'cleveland-cavaliers',\n",
       " 'det': 'detroit-pistons',\n",
       " 'ind': 'indiana-pacers',\n",
       " 'mil': 'milwaukee-bucks',\n",
       " 'atl': 'atlanta-hawks',\n",
       " 'cha': 'charlotte-hornets',\n",
       " 'mia': 'miami-heat',\n",
       " 'orl': 'orlando-magic',\n",
       " 'wsh': 'washington-wizards',\n",
       " 'den': 'denver-nuggets',\n",
       " 'min': 'minnesota-timberwolves',\n",
       " 'okc': 'oklahoma-city-thunder',\n",
       " 'por': 'portland-trail-blazers',\n",
       " 'utah': 'utah-jazz',\n",
       " 'gs': 'golden-state-warriors',\n",
       " 'lac': 'la-clippers',\n",
       " 'lal': 'los-angeles-lakers',\n",
       " 'phx': 'phoenix-suns',\n",
       " 'sac': 'sacramento-kings',\n",
       " 'dal': 'dallas-mavericks',\n",
       " 'hou': 'houston-rockets',\n",
       " 'mem': 'memphis-grizzlies',\n",
       " 'no': 'new-orleans-pelicans',\n",
       " 'sa': 'san-antonio-spurs'}"
      ]
     },
     "execution_count": 7,
     "metadata": {},
     "output_type": "execute_result"
    }
   ],
   "source": [
    "#Extraemos los todos equipos presentes en la pagina\n",
    "x = urllib.request.urlopen('https://www.espn.com/nba/teams')\n",
    "equipos_x = x.read().decode('utf-8')\n",
    "equipos = dict(re.findall(\"www\\.espn\\.com/nba/team/_/name/(\\w+)/(.+?)\\\",\", equipos_x))\n",
    "equipos"
   ]
  },
  {
   "cell_type": "markdown",
   "id": "7473a95b",
   "metadata": {},
   "source": [
    "## Enlace directo para links de cada equipo\n",
    "Nustro código anterior lo convertimos en función para cada link"
   ]
  },
  {
   "cell_type": "code",
   "execution_count": 8,
   "id": "9055e755",
   "metadata": {},
   "outputs": [
    {
     "data": {
      "text/plain": [
       "{'boston-celtics': 'https://www.espn.com/nba/team/roster/_/name/bos/boston-celtics',\n",
       " 'brooklyn-nets': 'https://www.espn.com/nba/team/roster/_/name/bkn/brooklyn-nets',\n",
       " 'new-york-knicks': 'https://www.espn.com/nba/team/roster/_/name/ny/new-york-knicks',\n",
       " 'philadelphia-76ers': 'https://www.espn.com/nba/team/roster/_/name/phi/philadelphia-76ers',\n",
       " 'toronto-raptors': 'https://www.espn.com/nba/team/roster/_/name/tor/toronto-raptors',\n",
       " 'chicago-bulls': 'https://www.espn.com/nba/team/roster/_/name/chi/chicago-bulls',\n",
       " 'cleveland-cavaliers': 'https://www.espn.com/nba/team/roster/_/name/cle/cleveland-cavaliers',\n",
       " 'detroit-pistons': 'https://www.espn.com/nba/team/roster/_/name/det/detroit-pistons',\n",
       " 'indiana-pacers': 'https://www.espn.com/nba/team/roster/_/name/ind/indiana-pacers',\n",
       " 'milwaukee-bucks': 'https://www.espn.com/nba/team/roster/_/name/mil/milwaukee-bucks',\n",
       " 'atlanta-hawks': 'https://www.espn.com/nba/team/roster/_/name/atl/atlanta-hawks',\n",
       " 'charlotte-hornets': 'https://www.espn.com/nba/team/roster/_/name/cha/charlotte-hornets',\n",
       " 'miami-heat': 'https://www.espn.com/nba/team/roster/_/name/mia/miami-heat',\n",
       " 'orlando-magic': 'https://www.espn.com/nba/team/roster/_/name/orl/orlando-magic',\n",
       " 'washington-wizards': 'https://www.espn.com/nba/team/roster/_/name/wsh/washington-wizards',\n",
       " 'denver-nuggets': 'https://www.espn.com/nba/team/roster/_/name/den/denver-nuggets',\n",
       " 'minnesota-timberwolves': 'https://www.espn.com/nba/team/roster/_/name/min/minnesota-timberwolves',\n",
       " 'oklahoma-city-thunder': 'https://www.espn.com/nba/team/roster/_/name/okc/oklahoma-city-thunder',\n",
       " 'portland-trail-blazers': 'https://www.espn.com/nba/team/roster/_/name/por/portland-trail-blazers',\n",
       " 'utah-jazz': 'https://www.espn.com/nba/team/roster/_/name/utah/utah-jazz',\n",
       " 'golden-state-warriors': 'https://www.espn.com/nba/team/roster/_/name/gs/golden-state-warriors',\n",
       " 'la-clippers': 'https://www.espn.com/nba/team/roster/_/name/lac/la-clippers',\n",
       " 'los-angeles-lakers': 'https://www.espn.com/nba/team/roster/_/name/lal/los-angeles-lakers',\n",
       " 'phoenix-suns': 'https://www.espn.com/nba/team/roster/_/name/phx/phoenix-suns',\n",
       " 'sacramento-kings': 'https://www.espn.com/nba/team/roster/_/name/sac/sacramento-kings',\n",
       " 'dallas-mavericks': 'https://www.espn.com/nba/team/roster/_/name/dal/dallas-mavericks',\n",
       " 'houston-rockets': 'https://www.espn.com/nba/team/roster/_/name/hou/houston-rockets',\n",
       " 'memphis-grizzlies': 'https://www.espn.com/nba/team/roster/_/name/mem/memphis-grizzlies',\n",
       " 'new-orleans-pelicans': 'https://www.espn.com/nba/team/roster/_/name/no/new-orleans-pelicans',\n",
       " 'san-antonio-spurs': 'https://www.espn.com/nba/team/roster/_/name/sa/san-antonio-spurs'}"
      ]
     },
     "execution_count": 8,
     "metadata": {},
     "output_type": "execute_result"
    }
   ],
   "source": [
    "#\"Roster\" = Lista de cada equipo\n",
    "def links_equipos():\n",
    "    x = urllib.request.urlopen('https://www.espn.com/nba/teams')\n",
    "    equipo_x = x.read().decode('utf-8')\n",
    "    equipo = dict(re.findall(\"www\\.espn\\.com/nba/team/_/name/(\\w+)/(.+?)\\\",\", equipo_x))\n",
    "    #lista de almacenamiento de los equipos\n",
    "    lista_urls = []\n",
    "    for key in equipo.keys():\n",
    "        lista_urls.append('https://www.espn.com/nba/team/roster/_/name/' + key + '/' + equipo[key])\n",
    "        equipo[key] = str(equipo[key])\n",
    "    return dict(zip(equipo.values(), lista_urls))\n",
    "lista_equipos = links_equipos()\n",
    "lista_equipos"
   ]
  },
  {
   "cell_type": "code",
   "execution_count": 9,
   "id": "a401b229",
   "metadata": {},
   "outputs": [
    {
     "data": {
      "text/plain": [
       "{'boston-celtics': 'https://www.espn.com/nba/team/stats/_/name/bos/boston-celtics',\n",
       " 'brooklyn-nets': 'https://www.espn.com/nba/team/stats/_/name/bkn/brooklyn-nets',\n",
       " 'new-york-knicks': 'https://www.espn.com/nba/team/stats/_/name/ny/new-york-knicks',\n",
       " 'philadelphia-76ers': 'https://www.espn.com/nba/team/stats/_/name/phi/philadelphia-76ers',\n",
       " 'toronto-raptors': 'https://www.espn.com/nba/team/stats/_/name/tor/toronto-raptors',\n",
       " 'chicago-bulls': 'https://www.espn.com/nba/team/stats/_/name/chi/chicago-bulls',\n",
       " 'cleveland-cavaliers': 'https://www.espn.com/nba/team/stats/_/name/cle/cleveland-cavaliers',\n",
       " 'detroit-pistons': 'https://www.espn.com/nba/team/stats/_/name/det/detroit-pistons',\n",
       " 'indiana-pacers': 'https://www.espn.com/nba/team/stats/_/name/ind/indiana-pacers',\n",
       " 'milwaukee-bucks': 'https://www.espn.com/nba/team/stats/_/name/mil/milwaukee-bucks',\n",
       " 'atlanta-hawks': 'https://www.espn.com/nba/team/stats/_/name/atl/atlanta-hawks',\n",
       " 'charlotte-hornets': 'https://www.espn.com/nba/team/stats/_/name/cha/charlotte-hornets',\n",
       " 'miami-heat': 'https://www.espn.com/nba/team/stats/_/name/mia/miami-heat',\n",
       " 'orlando-magic': 'https://www.espn.com/nba/team/stats/_/name/orl/orlando-magic',\n",
       " 'washington-wizards': 'https://www.espn.com/nba/team/stats/_/name/wsh/washington-wizards',\n",
       " 'denver-nuggets': 'https://www.espn.com/nba/team/stats/_/name/den/denver-nuggets',\n",
       " 'minnesota-timberwolves': 'https://www.espn.com/nba/team/stats/_/name/min/minnesota-timberwolves',\n",
       " 'oklahoma-city-thunder': 'https://www.espn.com/nba/team/stats/_/name/okc/oklahoma-city-thunder',\n",
       " 'portland-trail-blazers': 'https://www.espn.com/nba/team/stats/_/name/por/portland-trail-blazers',\n",
       " 'utah-jazz': 'https://www.espn.com/nba/team/stats/_/name/utah/utah-jazz',\n",
       " 'golden-state-warriors': 'https://www.espn.com/nba/team/stats/_/name/gs/golden-state-warriors',\n",
       " 'la-clippers': 'https://www.espn.com/nba/team/stats/_/name/lac/la-clippers',\n",
       " 'los-angeles-lakers': 'https://www.espn.com/nba/team/stats/_/name/lal/los-angeles-lakers',\n",
       " 'phoenix-suns': 'https://www.espn.com/nba/team/stats/_/name/phx/phoenix-suns',\n",
       " 'sacramento-kings': 'https://www.espn.com/nba/team/stats/_/name/sac/sacramento-kings',\n",
       " 'dallas-mavericks': 'https://www.espn.com/nba/team/stats/_/name/dal/dallas-mavericks',\n",
       " 'houston-rockets': 'https://www.espn.com/nba/team/stats/_/name/hou/houston-rockets',\n",
       " 'memphis-grizzlies': 'https://www.espn.com/nba/team/stats/_/name/mem/memphis-grizzlies',\n",
       " 'new-orleans-pelicans': 'https://www.espn.com/nba/team/stats/_/name/no/new-orleans-pelicans',\n",
       " 'san-antonio-spurs': 'https://www.espn.com/nba/team/stats/_/name/sa/san-antonio-spurs'}"
      ]
     },
     "execution_count": 9,
     "metadata": {},
     "output_type": "execute_result"
    }
   ],
   "source": [
    "#\"Stats\" = Lista de cada equipo\n",
    "def links_stadisticas():\n",
    "    y = urllib.request.urlopen('https://www.espn.com/nba/teams')\n",
    "    stats_y = y.read().decode('utf-8')\n",
    "    stats = dict(re.findall(\"www\\.espn\\.com/nba/team/_/name/(\\w+)/(.+?)\\\",\", stats_y))\n",
    "    #lista de almacenamiento de las estadisticas\n",
    "    stats_urls = []\n",
    "    for key in stats.keys():\n",
    "        stats_urls.append('https://www.espn.com/nba/team/stats/_/name/' + key + '/' + stats[key])\n",
    "        stats[key] = str(stats[key])\n",
    "    return dict(zip(stats.values(), stats_urls))\n",
    "lista_stats = links_stadisticas()\n",
    "lista_stats"
   ]
  }
 ],
 "metadata": {
  "kernelspec": {
   "display_name": "Python 3 (ipykernel)",
   "language": "python",
   "name": "python3"
  },
  "language_info": {
   "codemirror_mode": {
    "name": "ipython",
    "version": 3
   },
   "file_extension": ".py",
   "mimetype": "text/x-python",
   "name": "python",
   "nbconvert_exporter": "python",
   "pygments_lexer": "ipython3",
   "version": "3.9.7"
  }
 },
 "nbformat": 4,
 "nbformat_minor": 5
}
