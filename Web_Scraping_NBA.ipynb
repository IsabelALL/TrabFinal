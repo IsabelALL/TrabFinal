{
 "cells": [
  {
   "cell_type": "code",
   "execution_count": 34,
   "id": "a31f310a",
   "metadata": {},
   "outputs": [],
   "source": [
    "años = list(range(1991,2022))\n",
    "url = \"https://www.basketball-reference.com/awards/awards_{}.html\" \n",
    "#dado que la información en la página está por años, {} nos permite extraer información del año que quisieramos"
   ]
  },
  {
   "cell_type": "code",
   "execution_count": 35,
   "id": "b8266254",
   "metadata": {},
   "outputs": [],
   "source": [
    "#Importamos la librería para leer y procesar los url\n",
    "import requests\n",
    "import os\n",
    "import shutil"
   ]
  },
  {
   "cell_type": "code",
   "execution_count": 36,
   "id": "fb635524",
   "metadata": {},
   "outputs": [],
   "source": [
    "#vamos a iterar entre años\n",
    "for año in años:\n",
    "    urlx = url.format(año)\n",
    "    data = requests.get(urlx) #por cada año por el que se pase, se va a descargar y obtener su información\n",
    "    \n",
    "    #almacenamos en archivos html cada año, de esta manera tendremos la información que necesitemos\n",
    "    with open(\"nba/{}.html\".format(year), \"w+\", encoding=\"utf-8\") as f:\n",
    "        f.write(data.text)"
   ]
  },
  {
   "cell_type": "code",
   "execution_count": null,
   "id": "7ddad449",
   "metadata": {},
   "outputs": [],
   "source": []
  }
 ],
 "metadata": {
  "kernelspec": {
   "display_name": "Python 3 (ipykernel)",
   "language": "python",
   "name": "python3"
  },
  "language_info": {
   "codemirror_mode": {
    "name": "ipython",
    "version": 3
   },
   "file_extension": ".py",
   "mimetype": "text/x-python",
   "name": "python",
   "nbconvert_exporter": "python",
   "pygments_lexer": "ipython3",
   "version": "3.9.7"
  }
 },
 "nbformat": 4,
 "nbformat_minor": 5
}
