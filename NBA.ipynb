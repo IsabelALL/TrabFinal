{
 "cells": [
  {
   "cell_type": "code",
   "execution_count": 1,
   "id": "2bfda635",
   "metadata": {},
   "outputs": [],
   "source": [
    "import re\n",
    "import urllib\n",
    "from time import sleep"
   ]
  },
  {
   "cell_type": "code",
   "execution_count": 2,
   "id": "36ccc2e8",
   "metadata": {},
   "outputs": [],
   "source": [
    "# Este método encuentra las URL para cada una de las listas de la NBA usando expresiones regulares.\n",
    "def build_team_urls():\n",
    "    # Abra la página web de los equipos de espn y extraiga los nombres de cada lista disponible.\n",
    "    f = urllib.request.urlopen('https://www.espn.com/nba/teams')\n",
    "    teams_source = f.read().decode('utf-8')\n",
    "    teams = dict(re.findall(\"www\\.espn\\.com/nba/team/_/name/(\\w+)/(.+?)\\\",\", teams_source))\n",
    "    # Usando los nombres de las listas, cree las URL de cada lista.\n",
    "    roster_urls = []\n",
    "    for key in teams.keys():\n",
    "        # cada página web de la lista sigue este patrón general.\n",
    "        roster_urls.append('https://www.espn.com/nba/team/roster/_/name/' + key + '/' + teams[key])\n",
    "        teams[key] = str(teams[key])\n",
    "    return dict(zip(teams.values(), roster_urls))"
   ]
  },
  {
   "cell_type": "code",
   "execution_count": 3,
   "id": "155e5c03",
   "metadata": {},
   "outputs": [
    {
     "data": {
      "text/plain": [
       "{'boston-celtics': 'https://www.espn.com/nba/team/roster/_/name/bos/boston-celtics',\n",
       " 'brooklyn-nets': 'https://www.espn.com/nba/team/roster/_/name/bkn/brooklyn-nets',\n",
       " 'new-york-knicks': 'https://www.espn.com/nba/team/roster/_/name/ny/new-york-knicks',\n",
       " 'philadelphia-76ers': 'https://www.espn.com/nba/team/roster/_/name/phi/philadelphia-76ers',\n",
       " 'toronto-raptors': 'https://www.espn.com/nba/team/roster/_/name/tor/toronto-raptors',\n",
       " 'chicago-bulls': 'https://www.espn.com/nba/team/roster/_/name/chi/chicago-bulls',\n",
       " 'cleveland-cavaliers': 'https://www.espn.com/nba/team/roster/_/name/cle/cleveland-cavaliers',\n",
       " 'detroit-pistons': 'https://www.espn.com/nba/team/roster/_/name/det/detroit-pistons',\n",
       " 'indiana-pacers': 'https://www.espn.com/nba/team/roster/_/name/ind/indiana-pacers',\n",
       " 'milwaukee-bucks': 'https://www.espn.com/nba/team/roster/_/name/mil/milwaukee-bucks',\n",
       " 'atlanta-hawks': 'https://www.espn.com/nba/team/roster/_/name/atl/atlanta-hawks',\n",
       " 'charlotte-hornets': 'https://www.espn.com/nba/team/roster/_/name/cha/charlotte-hornets',\n",
       " 'miami-heat': 'https://www.espn.com/nba/team/roster/_/name/mia/miami-heat',\n",
       " 'orlando-magic': 'https://www.espn.com/nba/team/roster/_/name/orl/orlando-magic',\n",
       " 'washington-wizards': 'https://www.espn.com/nba/team/roster/_/name/wsh/washington-wizards',\n",
       " 'denver-nuggets': 'https://www.espn.com/nba/team/roster/_/name/den/denver-nuggets',\n",
       " 'minnesota-timberwolves': 'https://www.espn.com/nba/team/roster/_/name/min/minnesota-timberwolves',\n",
       " 'oklahoma-city-thunder': 'https://www.espn.com/nba/team/roster/_/name/okc/oklahoma-city-thunder',\n",
       " 'portland-trail-blazers': 'https://www.espn.com/nba/team/roster/_/name/por/portland-trail-blazers',\n",
       " 'utah-jazz': 'https://www.espn.com/nba/team/roster/_/name/utah/utah-jazz',\n",
       " 'golden-state-warriors': 'https://www.espn.com/nba/team/roster/_/name/gs/golden-state-warriors',\n",
       " 'la-clippers': 'https://www.espn.com/nba/team/roster/_/name/lac/la-clippers',\n",
       " 'los-angeles-lakers': 'https://www.espn.com/nba/team/roster/_/name/lal/los-angeles-lakers',\n",
       " 'phoenix-suns': 'https://www.espn.com/nba/team/roster/_/name/phx/phoenix-suns',\n",
       " 'sacramento-kings': 'https://www.espn.com/nba/team/roster/_/name/sac/sacramento-kings',\n",
       " 'dallas-mavericks': 'https://www.espn.com/nba/team/roster/_/name/dal/dallas-mavericks',\n",
       " 'houston-rockets': 'https://www.espn.com/nba/team/roster/_/name/hou/houston-rockets',\n",
       " 'memphis-grizzlies': 'https://www.espn.com/nba/team/roster/_/name/mem/memphis-grizzlies',\n",
       " 'new-orleans-pelicans': 'https://www.espn.com/nba/team/roster/_/name/no/new-orleans-pelicans',\n",
       " 'san-antonio-spurs': 'https://www.espn.com/nba/team/roster/_/name/sa/san-antonio-spurs'}"
      ]
     },
     "execution_count": 3,
     "metadata": {},
     "output_type": "execute_result"
    }
   ],
   "source": [
    "rosters = build_team_urls()\n",
    "rosters"
   ]
  },
  {
   "cell_type": "code",
   "execution_count": 6,
   "id": "d8f0396d",
   "metadata": {},
   "outputs": [],
   "source": [
    "url = \"https://www.espn.com/nba/team/roster/_/name/gs/golden-state-warriors\"\n",
    "f = urllib.request.urlopen(url)\n",
    "roster_source = f.read().decode('utf-8')"
   ]
  },
  {
   "cell_type": "code",
   "execution_count": 7,
   "id": "75bbe959",
   "metadata": {},
   "outputs": [
    {
     "data": {
      "text/plain": [
       "['{\"shortName\":\"N. Bjelica\",\"name\":\"Nemanja Bjelica\",\"href\":\"https://www.espn.com/nba/player/_/id/4269/nemanja-bjelica\",\"uid\":\"s:40~l:46~a:4269\",\"guid\":\"d2db86df2f09c977b5fe4941e20acd59\",\"id\":\"4269\",\"height\":\"6\\' 9\\\\\"\",\"weight\":\"234 lbs\",\"age\":33,\"position\":\"PF\",\"jersey\":\"8\",\"salary\":\"$1,669,178\",\"birthDate\":\"05/09/88\",\"headshot\":\"https://a.espncdn.com/i/headshots/nba/players/full/4269.png\",\"lastName\":\"Nemanja Bjelica\",\"experience\":6,\"birthPlace\":\"Belgrade, Serbia\"}',\n",
       " '{\"shortName\":\"C. Chiozza\",\"name\":\"Chris Chiozza\",\"href\":\"https://www.espn.com/nba/player/_/id/3137795/chris-chiozza\",\"uid\":\"s:40~l:46~a:3137795\",\"guid\":\"9a990b112a42aa231daa2f2dbafd582e\",\"id\":\"3137795\",\"height\":\"5\\' 11\\\\\"\",\"weight\":\"175 lbs\",\"age\":26,\"position\":\"G\",\"hand\":\"R\",\"jersey\":\"2\",\"salary\":0,\"birthDate\":\"11/21/95\",\"headshot\":\"https://a.espncdn.com/i/headshots/nba/players/full/3137795.png\",\"lastName\":\"Chris Chiozza\",\"experience\":3,\"college\":\"Florida\",\"birthPlace\":\"Memphis, TN\"}',\n",
       " '{\"shortName\":\"S. Curry\",\"name\":\"Stephen Curry\",\"href\":\"https://www.espn.com/nba/player/_/id/3975/stephen-curry\",\"uid\":\"s:40~l:46~a:3975\",\"guid\":\"5dda51f150c966e12026400b73f34fad\",\"id\":\"3975\",\"height\":\"6\\' 2\\\\\"\",\"weight\":\"185 lbs\",\"age\":33,\"position\":\"PG\",\"jersey\":\"30\",\"salary\":\"$45,780,966\",\"birthDate\":\"03/14/88\",\"headshot\":\"https://a.espncdn.com/i/headshots/nba/players/full/3975.png\",\"lastName\":\"Stephen Curry\",\"experience\":12,\"college\":\"Davidson\",\"birthPlace\":\"Akron, OH\"}',\n",
       " '{\"shortName\":\"D. Green\",\"name\":\"Draymond Green\",\"href\":\"https://www.espn.com/nba/player/_/id/6589/draymond-green\",\"uid\":\"s:40~l:46~a:6589\",\"guid\":\"de360720e41625f28a6bb5ff82616cb1\",\"id\":\"6589\",\"height\":\"6\\' 6\\\\\"\",\"weight\":\"230 lbs\",\"age\":32,\"position\":\"PF\",\"jersey\":\"23\",\"salary\":\"$24,026,712\",\"birthDate\":\"03/04/90\",\"headshot\":\"https://a.espncdn.com/i/headshots/nba/players/full/6589.png\",\"lastName\":\"Draymond Green\",\"experience\":9,\"college\":\"Michigan State\",\"birthPlace\":\"Saginaw, MI\"}']"
      ]
     },
     "execution_count": 7,
     "metadata": {},
     "output_type": "execute_result"
    }
   ],
   "source": [
    "player_regex = ('{\"shortName\":.*?}')\n",
    "player_regex\n",
    "player_info = re.findall(player_regex, roster_source)\n",
    "player_info[0:4]"
   ]
  },
  {
   "cell_type": "code",
   "execution_count": 8,
   "id": "248cdc88",
   "metadata": {},
   "outputs": [
    {
     "ename": "JSONDecodeError",
     "evalue": "Expecting property name enclosed in double quotes: line 1 column 2 (char 1)",
     "output_type": "error",
     "traceback": [
      "\u001b[1;31m---------------------------------------------------------------------------\u001b[0m",
      "\u001b[1;31mJSONDecodeError\u001b[0m                           Traceback (most recent call last)",
      "\u001b[1;32m~\\AppData\\Local\\Temp/ipykernel_14064/577115719.py\u001b[0m in \u001b[0;36m<module>\u001b[1;34m\u001b[0m\n\u001b[0;32m      1\u001b[0m \u001b[1;32mimport\u001b[0m \u001b[0mjson\u001b[0m\u001b[1;33m\u001b[0m\u001b[1;33m\u001b[0m\u001b[0m\n\u001b[1;32m----> 2\u001b[1;33m \u001b[0mdraymond\u001b[0m \u001b[1;33m=\u001b[0m \u001b[0mjson\u001b[0m\u001b[1;33m.\u001b[0m\u001b[0mloads\u001b[0m\u001b[1;33m(\u001b[0m\u001b[1;34m\"{\"\u001b[0m\u001b[1;33m+\u001b[0m\u001b[0mplayer_info\u001b[0m\u001b[1;33m[\u001b[0m\u001b[1;36m3\u001b[0m\u001b[1;33m]\u001b[0m\u001b[1;33m+\u001b[0m\u001b[1;34m\"}\"\u001b[0m\u001b[1;33m)\u001b[0m\u001b[1;33m\u001b[0m\u001b[1;33m\u001b[0m\u001b[0m\n\u001b[0m\u001b[0;32m      3\u001b[0m \u001b[0mdraymond\u001b[0m\u001b[1;33m\u001b[0m\u001b[1;33m\u001b[0m\u001b[0m\n",
      "\u001b[1;32mC:\\ProgramData\\Anaconda3\\lib\\json\\__init__.py\u001b[0m in \u001b[0;36mloads\u001b[1;34m(s, cls, object_hook, parse_float, parse_int, parse_constant, object_pairs_hook, **kw)\u001b[0m\n\u001b[0;32m    344\u001b[0m             \u001b[0mparse_int\u001b[0m \u001b[1;32mis\u001b[0m \u001b[1;32mNone\u001b[0m \u001b[1;32mand\u001b[0m \u001b[0mparse_float\u001b[0m \u001b[1;32mis\u001b[0m \u001b[1;32mNone\u001b[0m \u001b[1;32mand\u001b[0m\u001b[1;33m\u001b[0m\u001b[1;33m\u001b[0m\u001b[0m\n\u001b[0;32m    345\u001b[0m             parse_constant is None and object_pairs_hook is None and not kw):\n\u001b[1;32m--> 346\u001b[1;33m         \u001b[1;32mreturn\u001b[0m \u001b[0m_default_decoder\u001b[0m\u001b[1;33m.\u001b[0m\u001b[0mdecode\u001b[0m\u001b[1;33m(\u001b[0m\u001b[0ms\u001b[0m\u001b[1;33m)\u001b[0m\u001b[1;33m\u001b[0m\u001b[1;33m\u001b[0m\u001b[0m\n\u001b[0m\u001b[0;32m    347\u001b[0m     \u001b[1;32mif\u001b[0m \u001b[0mcls\u001b[0m \u001b[1;32mis\u001b[0m \u001b[1;32mNone\u001b[0m\u001b[1;33m:\u001b[0m\u001b[1;33m\u001b[0m\u001b[1;33m\u001b[0m\u001b[0m\n\u001b[0;32m    348\u001b[0m         \u001b[0mcls\u001b[0m \u001b[1;33m=\u001b[0m \u001b[0mJSONDecoder\u001b[0m\u001b[1;33m\u001b[0m\u001b[1;33m\u001b[0m\u001b[0m\n",
      "\u001b[1;32mC:\\ProgramData\\Anaconda3\\lib\\json\\decoder.py\u001b[0m in \u001b[0;36mdecode\u001b[1;34m(self, s, _w)\u001b[0m\n\u001b[0;32m    335\u001b[0m \u001b[1;33m\u001b[0m\u001b[0m\n\u001b[0;32m    336\u001b[0m         \"\"\"\n\u001b[1;32m--> 337\u001b[1;33m         \u001b[0mobj\u001b[0m\u001b[1;33m,\u001b[0m \u001b[0mend\u001b[0m \u001b[1;33m=\u001b[0m \u001b[0mself\u001b[0m\u001b[1;33m.\u001b[0m\u001b[0mraw_decode\u001b[0m\u001b[1;33m(\u001b[0m\u001b[0ms\u001b[0m\u001b[1;33m,\u001b[0m \u001b[0midx\u001b[0m\u001b[1;33m=\u001b[0m\u001b[0m_w\u001b[0m\u001b[1;33m(\u001b[0m\u001b[0ms\u001b[0m\u001b[1;33m,\u001b[0m \u001b[1;36m0\u001b[0m\u001b[1;33m)\u001b[0m\u001b[1;33m.\u001b[0m\u001b[0mend\u001b[0m\u001b[1;33m(\u001b[0m\u001b[1;33m)\u001b[0m\u001b[1;33m)\u001b[0m\u001b[1;33m\u001b[0m\u001b[1;33m\u001b[0m\u001b[0m\n\u001b[0m\u001b[0;32m    338\u001b[0m         \u001b[0mend\u001b[0m \u001b[1;33m=\u001b[0m \u001b[0m_w\u001b[0m\u001b[1;33m(\u001b[0m\u001b[0ms\u001b[0m\u001b[1;33m,\u001b[0m \u001b[0mend\u001b[0m\u001b[1;33m)\u001b[0m\u001b[1;33m.\u001b[0m\u001b[0mend\u001b[0m\u001b[1;33m(\u001b[0m\u001b[1;33m)\u001b[0m\u001b[1;33m\u001b[0m\u001b[1;33m\u001b[0m\u001b[0m\n\u001b[0;32m    339\u001b[0m         \u001b[1;32mif\u001b[0m \u001b[0mend\u001b[0m \u001b[1;33m!=\u001b[0m \u001b[0mlen\u001b[0m\u001b[1;33m(\u001b[0m\u001b[0ms\u001b[0m\u001b[1;33m)\u001b[0m\u001b[1;33m:\u001b[0m\u001b[1;33m\u001b[0m\u001b[1;33m\u001b[0m\u001b[0m\n",
      "\u001b[1;32mC:\\ProgramData\\Anaconda3\\lib\\json\\decoder.py\u001b[0m in \u001b[0;36mraw_decode\u001b[1;34m(self, s, idx)\u001b[0m\n\u001b[0;32m    351\u001b[0m         \"\"\"\n\u001b[0;32m    352\u001b[0m         \u001b[1;32mtry\u001b[0m\u001b[1;33m:\u001b[0m\u001b[1;33m\u001b[0m\u001b[1;33m\u001b[0m\u001b[0m\n\u001b[1;32m--> 353\u001b[1;33m             \u001b[0mobj\u001b[0m\u001b[1;33m,\u001b[0m \u001b[0mend\u001b[0m \u001b[1;33m=\u001b[0m \u001b[0mself\u001b[0m\u001b[1;33m.\u001b[0m\u001b[0mscan_once\u001b[0m\u001b[1;33m(\u001b[0m\u001b[0ms\u001b[0m\u001b[1;33m,\u001b[0m \u001b[0midx\u001b[0m\u001b[1;33m)\u001b[0m\u001b[1;33m\u001b[0m\u001b[1;33m\u001b[0m\u001b[0m\n\u001b[0m\u001b[0;32m    354\u001b[0m         \u001b[1;32mexcept\u001b[0m \u001b[0mStopIteration\u001b[0m \u001b[1;32mas\u001b[0m \u001b[0merr\u001b[0m\u001b[1;33m:\u001b[0m\u001b[1;33m\u001b[0m\u001b[1;33m\u001b[0m\u001b[0m\n\u001b[0;32m    355\u001b[0m             \u001b[1;32mraise\u001b[0m \u001b[0mJSONDecodeError\u001b[0m\u001b[1;33m(\u001b[0m\u001b[1;34m\"Expecting value\"\u001b[0m\u001b[1;33m,\u001b[0m \u001b[0ms\u001b[0m\u001b[1;33m,\u001b[0m \u001b[0merr\u001b[0m\u001b[1;33m.\u001b[0m\u001b[0mvalue\u001b[0m\u001b[1;33m)\u001b[0m \u001b[1;32mfrom\u001b[0m \u001b[1;32mNone\u001b[0m\u001b[1;33m\u001b[0m\u001b[1;33m\u001b[0m\u001b[0m\n",
      "\u001b[1;31mJSONDecodeError\u001b[0m: Expecting property name enclosed in double quotes: line 1 column 2 (char 1)"
     ]
    }
   ],
   "source": [
    "import json\n",
    "draymond = json.loads(\"{\"+player_info[3]+\"}\")\n",
    "draymond"
   ]
  },
  {
   "cell_type": "code",
   "execution_count": null,
   "id": "41923c7a",
   "metadata": {},
   "outputs": [],
   "source": [
    "def get_player_info(roster_url):\n",
    "    f = urllib.request.urlopen(roster_url)\n",
    "    roster_source = f.read().decode('utf-8')\n",
    "    sleep(0.5)\n",
    "    player_regex = ('\\{\\\"name\\\"\\:\\\"(\\w+\\s\\w+)\\\",\\\"href\\\"\\:\\\"https?\\://www\\.espn\\.com/nba/player/.*?\\\",(.*?)\\}')\n",
    "    player_info = re.findall(player_regex, roster_source)\n",
    "    player_dict = dict()\n",
    "    for player in player_info:\n",
    "        player_dict[player[0]] = json.loads(\"{\"+player[1]+\"}\")\n",
    "    return(player_dict)"
   ]
  },
  {
   "cell_type": "code",
   "execution_count": null,
   "id": "73c0decc",
   "metadata": {},
   "outputs": [],
   "source": [
    "all_players = dict()\n",
    "for team in rosters.keys():\n",
    "    print(\"Gathering player info for team: \" + team)\n",
    "    all_players[team] = get_player_info(rosters[team])"
   ]
  },
  {
   "cell_type": "code",
   "execution_count": null,
   "id": "249155d1",
   "metadata": {},
   "outputs": [],
   "source": [
    "all_players.keys()"
   ]
  },
  {
   "cell_type": "code",
   "execution_count": null,
   "id": "5e4dc7ba",
   "metadata": {},
   "outputs": [],
   "source": [
    "all_players[\"los-angeles-lakers\"].keys()"
   ]
  },
  {
   "cell_type": "code",
   "execution_count": null,
   "id": "ffa004f9",
   "metadata": {},
   "outputs": [],
   "source": [
    "all_players[\"los-angeles-lakers\"][\"LeBron James\"]\n"
   ]
  },
  {
   "cell_type": "code",
   "execution_count": null,
   "id": "0bc93ea0",
   "metadata": {},
   "outputs": [],
   "source": [
    "all_players[\"los-angeles-lakers\"][\"LeBron James\"][\"salary\"]\n"
   ]
  },
  {
   "cell_type": "code",
   "execution_count": null,
   "id": "cec10435",
   "metadata": {},
   "outputs": [],
   "source": [
    "import pandas as pd\n",
    "gsw = pd.DataFrame.from_dict(all_players[\"golden-state-warriors\"], orient = \"index\")\n",
    "gsw"
   ]
  }
 ],
 "metadata": {
  "kernelspec": {
   "display_name": "Python 3 (ipykernel)",
   "language": "python",
   "name": "python3"
  },
  "language_info": {
   "codemirror_mode": {
    "name": "ipython",
    "version": 3
   },
   "file_extension": ".py",
   "mimetype": "text/x-python",
   "name": "python",
   "nbconvert_exporter": "python",
   "pygments_lexer": "ipython3",
   "version": "3.9.7"
  }
 },
 "nbformat": 4,
 "nbformat_minor": 5
}
